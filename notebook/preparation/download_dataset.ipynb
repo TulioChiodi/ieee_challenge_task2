{
 "cells": [
  {
   "cell_type": "code",
   "execution_count": 6,
   "id": "c9c264f4",
   "metadata": {},
   "outputs": [],
   "source": [
    "import os\n",
    "from pathlib import Path\n",
    "from src.preparation import download_dataset as dl\n",
    "\n",
    "ROOT_PATH = Path(os.getcwd()).parents[1]"
   ]
  },
  {
   "cell_type": "code",
   "execution_count": null,
   "id": "d3573c40",
   "metadata": {},
   "outputs": [],
   "source": [
    "OUTPUT_PATH = ROOT_PATH / 'data' / 'raw'"
   ]
  },
  {
   "cell_type": "code",
   "execution_count": null,
   "id": "589a6a77",
   "metadata": {},
   "outputs": [],
   "source": [
    "dl.download_and_extract(set_type='train', output_path=OUTPUT_PATH)"
   ]
  },
  {
   "cell_type": "code",
   "execution_count": null,
   "id": "6fd5b72d",
   "metadata": {},
   "outputs": [],
   "source": [
    "dl.download_and_extract(set_type='dev', output_path=OUTPUT_PATH)"
   ]
  }
 ],
 "metadata": {
  "kernelspec": {
   "display_name": "Python37 (ieee)",
   "language": "python",
   "name": "ieee"
  },
  "language_info": {
   "codemirror_mode": {
    "name": "ipython",
    "version": 3
   },
   "file_extension": ".py",
   "mimetype": "text/x-python",
   "name": "python",
   "nbconvert_exporter": "python",
   "pygments_lexer": "ipython3",
   "version": "3.7.10"
  }
 },
 "nbformat": 4,
 "nbformat_minor": 5
}
